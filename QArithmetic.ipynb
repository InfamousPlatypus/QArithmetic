{
 "cells": [
  {
   "cell_type": "markdown",
   "metadata": {
    "slideshow": {
     "slide_type": "slide"
    }
   },
   "source": [
    "<h1>QArithmetic.py</h1>\n",
    "A Qiskit library for binary arithmetic and bitwise operations.\n",
    "\n",
    "<ul>\n",
    "    <li>Mohamed Hassan, Virginia Tech</li>\n",
    "    <li>Harsh Khetawat, North Carolina State University</li>\n",
    "    <li>Ana Neri, University of Minho</li>\n",
    "    <li>Afonso Rodrigues, University of Minho</li>\n",
    "    <li>Tom Wong, Creighton University</li>\n",
    "</ul>"
   ]
  },
  {
   "cell_type": "markdown",
   "metadata": {
    "slideshow": {
     "slide_type": "subslide"
    }
   },
   "source": [
    "<h2>Table of Contents</h2>\n",
    "<ol>\n",
    "    <li>Motivation</li>\n",
    "    <li>Binary Arithmetic</li>\n",
    "    <ol>\n",
    "        <li>Add</li>\n",
    "        <li>Subtract</li>\n",
    "        <li>Multiply</li>\n",
    "        <li>Divide and Remainder</li>\n",
    "    </ol>\n",
    "    <li>Bitwise Operations</li>\n",
    "    <ol>\n",
    "        <li>AND</li>\n",
    "        <li>OR</li>\n",
    "        <li>XOR</li>\n",
    "        <li>NOT</li>\n",
    "    </ol>\n",
    "    <li>Other Functions</li>\n",
    "</ol>"
   ]
  },
  {
   "cell_type": "markdown",
   "metadata": {
    "slideshow": {
     "slide_type": "slide"
    }
   },
   "source": [
    "<h1> Motivation </h1>\n",
    "\n",
    "<ol>\n",
    "    <li>Creating Oracles</li>\n",
    "    <li>Finance Applications</li>\n",
    "</ol>"
   ]
  },
  {
   "cell_type": "markdown",
   "metadata": {
    "slideshow": {
     "slide_type": "slide"
    }
   },
   "source": [
    "<h1>Binary Arithmetic</h1>\n",
    "<h2>Add</h2>\n",
    "|a⟩|b⟩ &rarr; |a⟩|a+b⟩"
   ]
  },
  {
   "cell_type": "code",
   "execution_count": 5,
   "metadata": {
    "slideshow": {
     "slide_type": "subslide"
    }
   },
   "outputs": [
    {
     "name": "stdout",
     "output_type": "stream",
     "text": [
      "{'11001 01110': 1024}\n"
     ]
    }
   ],
   "source": [
    "from qiskit import QuantumCircuit, ClassicalRegister, QuantumRegister\n",
    "from qiskit import execute, Aer\n",
    "from QArithmetic import add\n",
    "\n",
    "# Registers and circuit.\n",
    "a = QuantumRegister(5)\n",
    "b = QuantumRegister(5)\n",
    "ca = ClassicalRegister(5)\n",
    "cb = ClassicalRegister(5)\n",
    "qc = QuantumCircuit(a, b, ca, cb)\n",
    "\n",
    "# Numbers to add.\n",
    "qc.x(a[1]) # a = 01110\n",
    "qc.x(a[2])\n",
    "qc.x(a[3])\n",
    "qc.x(b[0]) # b = 01011\n",
    "qc.x(b[1])\n",
    "qc.x(b[3])\n",
    "\n",
    "# Add the numbers, so |a>|b> to |a>|a+b>.\n",
    "add(qc, a, b, 5)\n",
    "\n",
    "# Measure the results.\n",
    "qc.measure(a, ca)\n",
    "qc.measure(b, cb)\n",
    "\n",
    "# Simulate the circuit.\n",
    "backend_sim = Aer.get_backend('qasm_simulator')\n",
    "job_sim = execute(qc, backend_sim)\n",
    "result_sim = job_sim.result()\n",
    "\n",
    "print(result_sim.get_counts(qc))"
   ]
  },
  {
   "cell_type": "markdown",
   "metadata": {
    "slideshow": {
     "slide_type": "subslide"
    }
   },
   "source": [
    "Thus, 01110 + 01011 = 11001. That is, 14 + 11 = 25, as expected."
   ]
  },
  {
   "cell_type": "markdown",
   "metadata": {
    "slideshow": {
     "slide_type": "slide"
    }
   },
   "source": [
    "<h2>Subtract</h2>\n",
    "|a⟩|b⟩ &rarr; |a⟩|a-b⟩"
   ]
  },
  {
   "cell_type": "code",
   "execution_count": 6,
   "metadata": {
    "slideshow": {
     "slide_type": "subslide"
    }
   },
   "outputs": [
    {
     "name": "stdout",
     "output_type": "stream",
     "text": [
      "{'00011 01110': 1024}\n"
     ]
    }
   ],
   "source": [
    "from QArithmetic import sub\n",
    "\n",
    "# Registers and circuit.\n",
    "a = QuantumRegister(5)\n",
    "b = QuantumRegister(5)\n",
    "ca = ClassicalRegister(5)\n",
    "cb = ClassicalRegister(5)\n",
    "qc = QuantumCircuit(a, b, ca, cb)\n",
    "\n",
    "# Numbers to subtract.\n",
    "qc.x(a[1]) # a = 01110\n",
    "qc.x(a[2])\n",
    "qc.x(a[3])\n",
    "qc.x(b[0]) # b = 01011\n",
    "qc.x(b[1])\n",
    "qc.x(b[3])\n",
    "\n",
    "# Add the numbers, so |a>|b> to |a>|a-b>.\n",
    "sub(qc, a, b, 5)\n",
    "\n",
    "# Measure the results.\n",
    "qc.measure(a, ca)\n",
    "qc.measure(b, cb)\n",
    "\n",
    "# Simulate the circuit.\n",
    "backend_sim = Aer.get_backend('qasm_simulator')\n",
    "job_sim = execute(qc, backend_sim)\n",
    "result_sim = job_sim.result()\n",
    "\n",
    "print(result_sim.get_counts(qc))"
   ]
  },
  {
   "cell_type": "markdown",
   "metadata": {
    "slideshow": {
     "slide_type": "subslide"
    }
   },
   "source": [
    "Thus, 01110 - 01011 = 00011. That is, 14 - 11 = 3, as expected."
   ]
  },
  {
   "cell_type": "markdown",
   "metadata": {
    "slideshow": {
     "slide_type": "slide"
    }
   },
   "source": [
    "<h2>Multiply</h2>\n",
    "|a⟩|b⟩|0...0> &rarr; |a⟩|b⟩|a*b⟩"
   ]
  },
  {
   "cell_type": "code",
   "execution_count": 7,
   "metadata": {
    "slideshow": {
     "slide_type": "subslide"
    }
   },
   "outputs": [
    {
     "name": "stdout",
     "output_type": "stream",
     "text": [
      "{'000110': 1024}\n"
     ]
    }
   ],
   "source": [
    "from QArithmetic import mult\n",
    "\n",
    "# Registers and circuit.\n",
    "a = QuantumRegister(3)\n",
    "b = QuantumRegister(3)\n",
    "m = QuantumRegister(6)\n",
    "cm = ClassicalRegister(6)\n",
    "qc = QuantumCircuit(a, b, m, cm)\n",
    "\n",
    "# Numbers to multiply.\n",
    "qc.x(a[1]) # a = 010 = 2\n",
    "qc.x(b[0]) # b = 011 = 3\n",
    "qc.x(b[1])\n",
    "\n",
    "# Multiply the numbers, so |a>|b>|m=0> to |a>|b>|a*b>.\n",
    "mult(qc, a, b, m, 3)\n",
    "\n",
    "# Measure the result.\n",
    "qc.measure(m, cm)\n",
    "\n",
    "# Simulate the circuit.\n",
    "backend_sim = Aer.get_backend('qasm_simulator')\n",
    "job_sim = execute(qc, backend_sim)\n",
    "result_sim = job_sim.result()\n",
    "\n",
    "print(result_sim.get_counts(qc))\n"
   ]
  },
  {
   "cell_type": "markdown",
   "metadata": {
    "slideshow": {
     "slide_type": "subslide"
    }
   },
   "source": [
    "Thus, 010 * 011 = 000110. That is, 2 x 3 = 6, as expected."
   ]
  },
  {
   "cell_type": "markdown",
   "metadata": {
    "slideshow": {
     "slide_type": "slide"
    }
   },
   "source": [
    "<h2>Divide and Remainder</h2>\n",
    "|0...0 a⟩|b 0...0⟩|0...0⟩ &rarr; |a%b 0...0⟩|b⟩|a/b⟩"
   ]
  },
  {
   "cell_type": "code",
   "execution_count": 21,
   "metadata": {
    "slideshow": {
     "slide_type": "subslide"
    }
   },
   "outputs": [
    {
     "name": "stdout",
     "output_type": "stream",
     "text": [
      "{'01 1000 0100': 1024}\n"
     ]
    }
   ],
   "source": [
    "from QArithmetic import div\n",
    "\n",
    "# Registers and circuit.\n",
    "a = QuantumRegister(4)\n",
    "b = QuantumRegister(4)\n",
    "c = QuantumRegister(2)\n",
    "ca = ClassicalRegister(4)\n",
    "cb = ClassicalRegister(4)\n",
    "cc = ClassicalRegister(2)\n",
    "qc = QuantumCircuit(a,b,c,ca,cb,cc)\n",
    "\n",
    "# Inputs.\n",
    "qc.x(a[0]) # a = 0011\n",
    "qc.x(a[1])\n",
    "qc.x(b[3]) # b = 1000\n",
    "\n",
    "# Divide a and b.\n",
    "div(qc, a, b, c, 2)\n",
    "\n",
    "# Measure.\n",
    "qc.measure(a, ca)\n",
    "qc.measure(b, cb)\n",
    "qc.measure(c, cc)\n",
    "\n",
    "# Simulate the circuit.\n",
    "backend_sim = Aer.get_backend('qasm_simulator')\n",
    "job_sim = execute(qc, backend_sim)\n",
    "result_sim = job_sim.result()\n",
    "\n",
    "print(result_sim.get_counts(qc))"
   ]
  },
  {
   "cell_type": "markdown",
   "metadata": {
    "slideshow": {
     "slide_type": "subslide"
    }
   },
   "source": [
    "Thus, 11 / 10 = 01 remainder 01. That is, 3/2 = 1 remainder 1, as expected."
   ]
  },
  {
   "cell_type": "markdown",
   "metadata": {
    "slideshow": {
     "slide_type": "slide"
    }
   },
   "source": [
    "<h1>Bitwise Operations</h1>\n",
    "<h2>AND</h2>\n",
    "|a⟩|b⟩|0...0> &rarr; |a⟩|b⟩|a and b⟩"
   ]
  },
  {
   "cell_type": "code",
   "execution_count": 14,
   "metadata": {
    "slideshow": {
     "slide_type": "subslide"
    }
   },
   "outputs": [
    {
     "name": "stdout",
     "output_type": "stream",
     "text": [
      "{'1010 1011 1010': 1024}\n"
     ]
    }
   ],
   "source": [
    "from QArithmetic import bitwise_and\n",
    "\n",
    "# Registers and circuit.\n",
    "a = QuantumRegister(4)\n",
    "b = QuantumRegister(4)\n",
    "c = QuantumRegister(4)\n",
    "ca = ClassicalRegister(4)\n",
    "cb = ClassicalRegister(4)\n",
    "cc = ClassicalRegister(4)\n",
    "qc = QuantumCircuit(a, b, c, ca, cb, cc)\n",
    "\n",
    "# Inputs\n",
    "qc.x(a[1]) # a =1010\n",
    "qc.x(a[3])\n",
    "qc.x(b[0]) # b = 1011\n",
    "qc.x(b[1])\n",
    "qc.x(b[3])\n",
    "\n",
    "# Take the bitwise AND.\n",
    "bitwise_and(qc, a, b, c, 4)\n",
    "\n",
    "# Measure.\n",
    "qc.measure(a, ca)\n",
    "qc.measure(b, cb)\n",
    "qc.measure(c, cc)\n",
    "\n",
    "# Simulate the circuit.\n",
    "backend_sim = Aer.get_backend('qasm_simulator')\n",
    "job_sim = execute(qc, backend_sim)\n",
    "result_sim = job_sim.result()\n",
    "\n",
    "print(result_sim.get_counts(qc))"
   ]
  },
  {
   "cell_type": "markdown",
   "metadata": {
    "slideshow": {
     "slide_type": "subslide"
    }
   },
   "source": [
    "Thus, 1010 & 1011 = 1010, as expected."
   ]
  },
  {
   "cell_type": "markdown",
   "metadata": {
    "slideshow": {
     "slide_type": "slide"
    }
   },
   "source": [
    "<h2>OR</h2>\n",
    "|a⟩|b⟩|0...0> &rarr; |a⟩|b⟩|a or b⟩"
   ]
  },
  {
   "cell_type": "code",
   "execution_count": 15,
   "metadata": {
    "scrolled": true,
    "slideshow": {
     "slide_type": "subslide"
    }
   },
   "outputs": [
    {
     "name": "stdout",
     "output_type": "stream",
     "text": [
      "{'1011 1011 1010': 1024}\n"
     ]
    }
   ],
   "source": [
    "from QArithmetic import bitwise_or\n",
    "\n",
    "# Registers and circuit.\n",
    "a = QuantumRegister(4)\n",
    "b = QuantumRegister(4)\n",
    "c = QuantumRegister(4)\n",
    "ca = ClassicalRegister(4)\n",
    "cb = ClassicalRegister(4)\n",
    "cc = ClassicalRegister(4)\n",
    "qc = QuantumCircuit(a, b, c, ca, cb, cc)\n",
    "\n",
    "# Input.\n",
    "qc.x(a[1]) # a = 1010\n",
    "qc.x(a[3])\n",
    "qc.x(b[0]) # b = 1011\n",
    "qc.x(b[1])\n",
    "qc.x(b[3])\n",
    "\n",
    "# Take the bitwise OR.\n",
    "bitwise_or(qc, a, b, c, N)\n",
    "\n",
    "# Measure.\n",
    "qc.measure(a, ca)\n",
    "qc.measure(b, cb)\n",
    "qc.measure(c, cc)\n",
    "\n",
    "# Simulate the circuit.\n",
    "backend_sim = Aer.get_backend('qasm_simulator')\n",
    "job_sim = execute(qc, backend_sim)\n",
    "result_sim = job_sim.result()\n",
    "\n",
    "print(result_sim.get_counts(qc))"
   ]
  },
  {
   "cell_type": "markdown",
   "metadata": {
    "slideshow": {
     "slide_type": "subslide"
    }
   },
   "source": [
    "Thus, 1010 & 1011 = 1011, as expected."
   ]
  },
  {
   "cell_type": "markdown",
   "metadata": {
    "slideshow": {
     "slide_type": "slide"
    }
   },
   "source": [
    "<h2>XOR</h2>\n",
    "|a⟩|b⟩|0...0> &rarr; |a⟩|b⟩|a xor b⟩"
   ]
  },
  {
   "cell_type": "code",
   "execution_count": 16,
   "metadata": {
    "slideshow": {
     "slide_type": "subslide"
    }
   },
   "outputs": [
    {
     "name": "stdout",
     "output_type": "stream",
     "text": [
      "{'0001 1011 1010': 1024}\n"
     ]
    }
   ],
   "source": [
    "from QArithmetic import bitwise_xor\n",
    "\n",
    "# Registers and circuit.\n",
    "a = QuantumRegister(4)\n",
    "b = QuantumRegister(4)\n",
    "c = QuantumRegister(4)\n",
    "ca = ClassicalRegister(4)\n",
    "cb = ClassicalRegister(4)\n",
    "cc = ClassicalRegister(4)\n",
    "qc = QuantumCircuit(a, b, c, ca, cb, cc)\n",
    "\n",
    "# Input.\n",
    "qc.x(a[1]) # a = 1010\n",
    "qc.x(a[3])\n",
    "qc.x(b[0]) # b = 1011\n",
    "qc.x(b[1])\n",
    "qc.x(b[3])\n",
    "\n",
    "# Take the bitwise XOR.\n",
    "bitwise_xor(qc, a, b, c, N)\n",
    "\n",
    "# Measure.\n",
    "qc.measure(a, ca)\n",
    "qc.measure(b, cb)\n",
    "qc.measure(c, cc)\n",
    "\n",
    "# Simulate the circuit.\n",
    "backend_sim = Aer.get_backend('qasm_simulator')\n",
    "job_sim = execute(qc, backend_sim)\n",
    "result_sim = job_sim.result()\n",
    "\n",
    "print(result_sim.get_counts(qc))"
   ]
  },
  {
   "cell_type": "markdown",
   "metadata": {
    "slideshow": {
     "slide_type": "subslide"
    }
   },
   "source": [
    "Thus, 1010 & 1011 = 1011, as expected."
   ]
  },
  {
   "cell_type": "markdown",
   "metadata": {
    "slideshow": {
     "slide_type": "slide"
    }
   },
   "source": [
    "<h2>NOT</h2>\n",
    "|a⟩|0...0> &rarr; |a⟩|~a⟩"
   ]
  },
  {
   "cell_type": "code",
   "execution_count": 17,
   "metadata": {
    "slideshow": {
     "slide_type": "subslide"
    }
   },
   "outputs": [
    {
     "name": "stdout",
     "output_type": "stream",
     "text": [
      "{'0101 1010': 1024}\n"
     ]
    }
   ],
   "source": [
    "from QArithmetic import bitwise_not\n",
    "\n",
    "# Registers and circuit.\n",
    "a = QuantumRegister(4)\n",
    "b = QuantumRegister(4)\n",
    "ca = ClassicalRegister(4)\n",
    "cb = ClassicalRegister(4)\n",
    "qc = QuantumCircuit(a, b, ca, cb)\n",
    "\n",
    "# Input.\n",
    "qc.x(a[1]) # a =  1010\n",
    "qc.x(a[3])\n",
    "\n",
    "# Take the bitwise NOT.\n",
    "bitwise_not(qc, a, b, N)\n",
    "\n",
    "# Measure.\n",
    "qc.measure(a, ca)\n",
    "qc.measure(b, cb)\n",
    "\n",
    "# Simulate the circuit.\n",
    "backend_sim = Aer.get_backend('qasm_simulator')\n",
    "job_sim = execute(qc, backend_sim)\n",
    "result_sim = job_sim.result()\n",
    "\n",
    "print(result_sim.get_counts(qc))"
   ]
  },
  {
   "cell_type": "markdown",
   "metadata": {
    "slideshow": {
     "slide_type": "subslide"
    }
   },
   "source": [
    "Thus, ~1010 = 0101, as expected."
   ]
  },
  {
   "cell_type": "markdown",
   "metadata": {
    "slideshow": {
     "slide_type": "slide"
    }
   },
   "source": [
    "<h2>Other Functions</h2>\n",
    "<ol>\n",
    "    <li>Bitwise Cyclic Shifts</li>\n",
    "    <li>Controlled-Add</li>\n",
    "    <li>Controlled-Controlled-Controlled-NOT (or Controlled Toffoli)</li>\n",
    "    <li>Quantum Fourier transform and inverse</li>\n",
    "    <li>Controlled quantum Fourier transform and inverse</li>\n",
    "</ol>"
   ]
  },
  {
   "cell_type": "markdown",
   "metadata": {
    "slideshow": {
     "slide_type": "slide"
    }
   },
   "source": [
    "<h2>Summary</h2>\n",
    "<ol>\n",
    "    <li>Motivation</li>\n",
    "    <li>Binary Arithmetic</li>\n",
    "    <ol>\n",
    "        <li>Add</li>\n",
    "        <li>Subtract</li>\n",
    "        <li>Multiply</li>\n",
    "        <li>Divide and Remainder</li>\n",
    "    </ol>\n",
    "    <li>Bitwise Operations</li>\n",
    "    <ol>\n",
    "        <li>AND</li>\n",
    "        <li>OR</li>\n",
    "        <li>XOR</li>\n",
    "        <li>NOT</li>\n",
    "    </ol>\n",
    "    <li>Other Functions</li>\n",
    "</ol>\n",
    "\n",
    "Thank you!"
   ]
  },
  {
   "cell_type": "code",
   "execution_count": null,
   "metadata": {
    "slideshow": {
     "slide_type": "skip"
    }
   },
   "outputs": [],
   "source": []
  }
 ],
 "metadata": {
  "celltoolbar": "Slideshow",
  "kernelspec": {
   "display_name": "Python 3",
   "language": "python",
   "name": "python3"
  },
  "language_info": {
   "codemirror_mode": {
    "name": "ipython",
    "version": 3
   },
   "file_extension": ".py",
   "mimetype": "text/x-python",
   "name": "python",
   "nbconvert_exporter": "python",
   "pygments_lexer": "ipython3",
   "version": "3.7.2"
  }
 },
 "nbformat": 4,
 "nbformat_minor": 2
}
