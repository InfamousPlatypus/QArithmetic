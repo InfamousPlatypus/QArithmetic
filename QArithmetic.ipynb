{
 "cells": [
  {
   "cell_type": "markdown",
   "metadata": {
    "slideshow": {
     "slide_type": "slide"
    }
   },
   "source": [
    "<h1>QArithmetic.py</h1>\n",
    "A Qiskit library for binary arithmetic and bitwise operations.\n",
    "\n",
    "<ul>\n",
    "    <li>Mohamed Hassan</li>\n",
    "    <li>Harsh Khetawat</li>\n",
    "    <li>Ana Neri</li>\n",
    "    <li>Afonso Rodrigues</li>\n",
    "    <li>Tom Wong</li>\n",
    "</ul>"
   ]
  },
  {
   "cell_type": "markdown",
   "metadata": {
    "slideshow": {
     "slide_type": "subslide"
    }
   },
   "source": [
    "<h2>Table of Contents</h2>\n",
    "<ol>\n",
    "    <li>Binary Arithmetic</li>\n",
    "    <ol>\n",
    "        <li>Add</li>\n",
    "        <li>Subtract</li>\n",
    "        <li>Multiply</li>\n",
    "        <li>Divide and Remainder</li>\n",
    "    </ol>\n",
    "    <li>Bitwise Operations</li>\n",
    "    <ol>\n",
    "        <li>AND</li>\n",
    "        <li>OR</li>\n",
    "        <li>XOR</li>\n",
    "        <li>NOT</li>\n",
    "        <li>Bitwise shifts</li>\n",
    "    </ol>\n",
    "    <li>Other Functions</li>\n",
    "    <ol>\n",
    "        <li>Controlled-Add</li>\n",
    "        <li>Controlled-Controlled-Controlled-NOT</li>\n",
    "    </ol>\n",
    "</ol>"
   ]
  },
  {
   "cell_type": "markdown",
   "metadata": {
    "slideshow": {
     "slide_type": "slide"
    }
   },
   "source": [
    "<h1>Binary Arithmetic</h1>\n",
    "<h2>Add</h2>"
   ]
  },
  {
   "cell_type": "code",
   "execution_count": 2,
   "metadata": {
    "slideshow": {
     "slide_type": "subslide"
    }
   },
   "outputs": [
    {
     "name": "stdout",
     "output_type": "stream",
     "text": [
      "{'11001 01110': 1024}\n"
     ]
    }
   ],
   "source": [
    "from qiskit import QuantumCircuit, ClassicalRegister, QuantumRegister\n",
    "from qiskit import execute, Aer\n",
    "from QArithmetic import add\n",
    "\n",
    "# Registers and circuit.\n",
    "a = QuantumRegister(5)\n",
    "b = QuantumRegister(5)\n",
    "ca = ClassicalRegister(5)\n",
    "cb = ClassicalRegister(5)\n",
    "qc = QuantumCircuit(a, b, ca, cb)\n",
    "\n",
    "# Numbers to add.\n",
    "qc.x(a[1]) # a = 01110\n",
    "qc.x(a[2])\n",
    "qc.x(a[3])\n",
    "qc.x(b[0]) # b = 01011\n",
    "qc.x(b[1])\n",
    "qc.x(b[3])\n",
    "\n",
    "# Add the numbers, so |a>|b> to |a>|a+b>.\n",
    "add(qc, a, b, 5)\n",
    "\n",
    "# Measure the results.\n",
    "qc.measure(a, ca)\n",
    "qc.measure(b, cb)\n",
    "\n",
    "# Simulate the circuit.\n",
    "backend_sim = Aer.get_backend('qasm_simulator')\n",
    "job_sim = execute(qc, backend_sim)\n",
    "result_sim = job_sim.result()\n",
    "\n",
    "print(result_sim.get_counts(qc))"
   ]
  },
  {
   "cell_type": "markdown",
   "metadata": {
    "slideshow": {
     "slide_type": "slide"
    }
   },
   "source": [
    "<h2>Subtract</h2>"
   ]
  },
  {
   "cell_type": "code",
   "execution_count": null,
   "metadata": {},
   "outputs": [],
   "source": []
  },
  {
   "cell_type": "markdown",
   "metadata": {
    "slideshow": {
     "slide_type": "slide"
    }
   },
   "source": [
    "<h1>Bitwise Operations</h1>\n",
    "<h2>AND</h2>"
   ]
  },
  {
   "cell_type": "code",
   "execution_count": 1,
   "metadata": {
    "slideshow": {
     "slide_type": "subslide"
    }
   },
   "outputs": [
    {
     "ename": "ImportError",
     "evalue": "cannot import name 'Aer'",
     "output_type": "error",
     "traceback": [
      "\u001b[0;31m---------------------------------------------------------------------------\u001b[0m",
      "\u001b[0;31mImportError\u001b[0m                               Traceback (most recent call last)",
      "\u001b[0;32m<ipython-input-1-923ae0de4eca>\u001b[0m in \u001b[0;36m<module>\u001b[0;34m()\u001b[0m\n\u001b[1;32m      1\u001b[0m \u001b[0;31m# Import the Qiskit SDK\u001b[0m\u001b[0;34m\u001b[0m\u001b[0;34m\u001b[0m\u001b[0m\n\u001b[1;32m      2\u001b[0m \u001b[0;32mfrom\u001b[0m \u001b[0mqiskit\u001b[0m \u001b[0;32mimport\u001b[0m \u001b[0mQuantumCircuit\u001b[0m\u001b[0;34m,\u001b[0m \u001b[0mClassicalRegister\u001b[0m\u001b[0;34m,\u001b[0m \u001b[0mQuantumRegister\u001b[0m\u001b[0;34m\u001b[0m\u001b[0m\n\u001b[0;32m----> 3\u001b[0;31m \u001b[0;32mfrom\u001b[0m \u001b[0mqiskit\u001b[0m \u001b[0;32mimport\u001b[0m \u001b[0mexecute\u001b[0m\u001b[0;34m,\u001b[0m \u001b[0mAer\u001b[0m\u001b[0;34m\u001b[0m\u001b[0m\n\u001b[0m\u001b[1;32m      4\u001b[0m \u001b[0;32mfrom\u001b[0m \u001b[0mQArithmetic\u001b[0m \u001b[0;32mimport\u001b[0m \u001b[0mbitwise_and\u001b[0m\u001b[0;34m,\u001b[0m \u001b[0mbitwise_or\u001b[0m\u001b[0;34m,\u001b[0m \u001b[0mbitwise_xor\u001b[0m\u001b[0;34m,\u001b[0m \u001b[0mbitwise_not\u001b[0m\u001b[0;34m\u001b[0m\u001b[0m\n\u001b[1;32m      5\u001b[0m \u001b[0;34m\u001b[0m\u001b[0m\n",
      "\u001b[0;31mImportError\u001b[0m: cannot import name 'Aer'"
     ]
    }
   ],
   "source": [
    "from QArithmetic import bitwise_and, bitwise_or, bitwise_xor, bitwise_not\n",
    "\n",
    "# Input N\n",
    "N = 4\n",
    "\n",
    "a = QuantumRegister(N)\n",
    "b = QuantumRegister(N)\n",
    "c = QuantumRegister(N)\n",
    "\n",
    "ca = ClassicalRegister(N)\n",
    "cb = ClassicalRegister(N)\n",
    "cc = ClassicalRegister(N)\n",
    "\n",
    "qc = QuantumCircuit(a, b, c, ca, cb, cc)\n",
    "\n",
    "\n",
    "# Input Superposition\n",
    "# a =  1010\n",
    "qc.x(a[1])\n",
    "qc.x(a[3])\n",
    "# b = 1011\n",
    "qc.x(b[0])\n",
    "qc.x(b[1])\n",
    "qc.x(b[3])\n",
    "\n",
    "bitwise_and(qc, a, b, c, N)\n",
    "\n",
    "qc.measure(a, ca)\n",
    "qc.measure(b, cb)\n",
    "qc.measure(c, cc)\n",
    "\n",
    "backend_sim = Aer.get_backend('qasm_simulator')\n",
    "job_sim = execute(qc, backend_sim)\n",
    "result_sim = job_sim.result()\n",
    "\n",
    "print(result_sim.get_counts(qc))"
   ]
  },
  {
   "cell_type": "markdown",
   "metadata": {
    "slideshow": {
     "slide_type": "slide"
    }
   },
   "source": [
    "<h2>OR</h2>"
   ]
  },
  {
   "cell_type": "code",
   "execution_count": null,
   "metadata": {
    "slideshow": {
     "slide_type": "subslide"
    }
   },
   "outputs": [],
   "source": [
    "from QArithmetic import bitwise_and, bitwise_or, bitwise_xor, bitwise_not\n",
    "\n",
    "# Input N\n",
    "N = 4\n",
    "\n",
    "a = QuantumRegister(N)\n",
    "b = QuantumRegister(N)\n",
    "c = QuantumRegister(N)\n",
    "\n",
    "ca = ClassicalRegister(N)\n",
    "cb = ClassicalRegister(N)\n",
    "cc = ClassicalRegister(N)\n",
    "\n",
    "qc = QuantumCircuit(a, b, c, ca, cb, cc)\n",
    "\n",
    "\n",
    "# Input Superposition\n",
    "# a =  1010\n",
    "qc.x(a[1])\n",
    "qc.x(a[3])\n",
    "# b = 1011\n",
    "qc.x(b[0])\n",
    "qc.x(b[1])\n",
    "qc.x(b[3])\n",
    "\n",
    "bitwise_or(qc, a, b, c, N)\n",
    "\n",
    "qc.measure(a, ca)\n",
    "qc.measure(b, cb)\n",
    "qc.measure(c, cc)\n",
    "\n",
    "backend_sim = Aer.get_backend('qasm_simulator')\n",
    "job_sim = execute(qc, backend_sim)\n",
    "result_sim = job_sim.result()\n",
    "\n",
    "print(result_sim.get_counts(qc))"
   ]
  },
  {
   "cell_type": "markdown",
   "metadata": {
    "slideshow": {
     "slide_type": "slide"
    }
   },
   "source": [
    "<h2>XOR</h2>"
   ]
  },
  {
   "cell_type": "code",
   "execution_count": null,
   "metadata": {
    "slideshow": {
     "slide_type": "subslide"
    }
   },
   "outputs": [],
   "source": [
    "from QArithmetic import bitwise_and, bitwise_or, bitwise_xor, bitwise_not\n",
    "\n",
    "# Input N\n",
    "N = 4\n",
    "\n",
    "a = QuantumRegister(N)\n",
    "b = QuantumRegister(N)\n",
    "c = QuantumRegister(N)\n",
    "\n",
    "ca = ClassicalRegister(N)\n",
    "cb = ClassicalRegister(N)\n",
    "cc = ClassicalRegister(N)\n",
    "\n",
    "qc = QuantumCircuit(a, b, c, ca, cb, cc)\n",
    "\n",
    "\n",
    "# Input Superposition\n",
    "# a =  1010\n",
    "qc.x(a[1])\n",
    "qc.x(a[3])\n",
    "# b = 1011\n",
    "qc.x(b[0])\n",
    "qc.x(b[1])\n",
    "qc.x(b[3])\n",
    "\n",
    "bitwise_xor(qc, a, b, c, N)\n",
    "\n",
    "qc.measure(a, ca)\n",
    "qc.measure(b, cb)\n",
    "qc.measure(c, cc)\n",
    "\n",
    "backend_sim = Aer.get_backend('qasm_simulator')\n",
    "job_sim = execute(qc, backend_sim)\n",
    "result_sim = job_sim.result()\n",
    "\n",
    "print(result_sim.get_counts(qc))"
   ]
  },
  {
   "cell_type": "markdown",
   "metadata": {
    "slideshow": {
     "slide_type": "slide"
    }
   },
   "source": [
    "NOT"
   ]
  },
  {
   "cell_type": "code",
   "execution_count": null,
   "metadata": {
    "slideshow": {
     "slide_type": "subslide"
    }
   },
   "outputs": [],
   "source": [
    "from QArithmetic import bitwise_and, bitwise_or, bitwise_xor, bitwise_not\n",
    "\n",
    "# Input N\n",
    "N = 4\n",
    "\n",
    "a = QuantumRegister(N)\n",
    "c = QuantumRegister(N)\n",
    "\n",
    "ca = ClassicalRegister(N)\n",
    "cc = ClassicalRegister(N)\n",
    "\n",
    "qc = QuantumCircuit(a, b, c, ca, cb, cc)\n",
    "\n",
    "\n",
    "# Input Superposition\n",
    "# a =  1010\n",
    "qc.x(a[1])\n",
    "qc.x(a[3])\n",
    "\n",
    "bitwise_not(qc, a, c, N)\n",
    "\n",
    "qc.measure(a, ca)\n",
    "qc.measure(c, cc)\n",
    "\n",
    "backend_sim = Aer.get_backend('qasm_simulator')\n",
    "job_sim = execute(qc, backend_sim)\n",
    "result_sim = job_sim.result()\n",
    "\n",
    "print(result_sim.get_counts(qc))"
   ]
  }
 ],
 "metadata": {
  "celltoolbar": "Slideshow",
  "kernelspec": {
   "display_name": "Python 3",
   "language": "python",
   "name": "python3"
  },
  "language_info": {
   "codemirror_mode": {
    "name": "ipython",
    "version": 3
   },
   "file_extension": ".py",
   "mimetype": "text/x-python",
   "name": "python",
   "nbconvert_exporter": "python",
   "pygments_lexer": "ipython3",
   "version": "3.6.5"
  }
 },
 "nbformat": 4,
 "nbformat_minor": 2
}
